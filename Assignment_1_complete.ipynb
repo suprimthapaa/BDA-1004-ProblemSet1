{
 "cells": [
  {
   "cell_type": "markdown",
   "id": "01376dba",
   "metadata": {},
   "source": [
    "# Problem Set 1\n"
   ]
  },
  {
   "cell_type": "markdown",
   "id": "1925d561",
   "metadata": {},
   "source": [
    "# Question 1 C#\n",
    "What data type is each of the following?"
   ]
  },
  {
   "cell_type": "code",
   "execution_count": null,
   "id": "39391a48",
   "metadata": {},
   "outputs": [],
   "source": [
    "5     =>int32\n",
    "5_0   =>int32 //The underscore is used as a visual separator and has no effect         on the value or data type.\n",
    "5>1   =>Boolean\n",
    "\"5\"   =>char/string\n",
    "5*2   =>int32\n",
    "\"5\"*2 => not a valid operation in c#.string data type cannot be multiplied by an integer\n",
    "\"5\"+\"2\" =>string\n",
    "5/2    =>int32\n",
    "5%2    =>int32\n",
    "{5,2,1} =>array of integers\n",
    "5==3 =>Boolean\n",
    "Pi(the number) =>floating point type//double data type\n"
   ]
  },
  {
   "cell_type": "markdown",
   "id": "4db650be",
   "metadata": {},
   "source": [
    "# Question 2 C#\n",
    "Write (and evaluate) C# expressions that answer these questions"
   ]
  },
  {
   "cell_type": "markdown",
   "id": "7f3e567c",
   "metadata": {},
   "source": [
    "a. How many letters are there in 'Supercalifragilisticexpialidocious'?"
   ]
  },
  {
   "cell_type": "code",
   "execution_count": 38,
   "id": "3a889173",
   "metadata": {},
   "outputs": [
    {
     "name": "stdout",
     "output_type": "stream",
     "text": [
      "34"
     ]
    }
   ],
   "source": [
    "string a = \"Supercalifragilisticexpialidocious\";\n",
    "Console.Write(a.Length)"
   ]
  },
  {
   "cell_type": "markdown",
   "id": "dbf5d597",
   "metadata": {},
   "source": [
    "34"
   ]
  },
  {
   "cell_type": "markdown",
   "id": "e36ff3d0",
   "metadata": {},
   "source": [
    "b. Does 'Supercalifragilisticexpialidocious' contain 'ice' as a substring?"
   ]
  },
  {
   "cell_type": "code",
   "execution_count": 33,
   "id": "fcd1687c",
   "metadata": {},
   "outputs": [
    {
     "name": "stdout",
     "output_type": "stream",
     "text": [
      "True"
     ]
    }
   ],
   "source": [
    "string a = \"Supercalifragilisticexpialidocious\";\n",
    "Console.Write(a.Contains(\"ice\"))\n"
   ]
  },
  {
   "cell_type": "markdown",
   "id": "d2d5ddf6",
   "metadata": {},
   "source": [
    "True"
   ]
  },
  {
   "cell_type": "markdown",
   "id": "1da98629",
   "metadata": {},
   "source": [
    "c. Which of the following words is the longest: \n",
    "Supercalifragilisticexpialidocious, Honorificabilitudinitatibus, or \n",
    "Bababadalgharaghtakamminarronnkonn?"
   ]
  },
  {
   "cell_type": "code",
   "execution_count": 51,
   "id": "03cf2335",
   "metadata": {},
   "outputs": [
    {
     "name": "stdout",
     "output_type": "stream",
     "text": [
      "Supercalifragilisticexpialidocious"
     ]
    }
   ],
   "source": [
    "string[] names = {\"Supercalifragilisticexpialidocious\", \"Honorificabilitudinitatibus\", \n",
    "\"Bababadalgharaghtakamminarronnkonn\"};\n",
    "\n",
    "string longstring = names.OrderByDescending(s=> s.Length).First();\n",
    "Console.Write(longstring)\n",
    "\n",
    "\n"
   ]
  },
  {
   "cell_type": "markdown",
   "id": "633a91ec",
   "metadata": {},
   "source": [
    "Although 2 strings have the equal length the word Supercalifragilisticexpialidocious is set to be longest as it is first in order."
   ]
  },
  {
   "cell_type": "markdown",
   "id": "04228df6",
   "metadata": {},
   "source": [
    "d. Which composer comes first in the dictionary: 'Berlioz', 'Borodin', 'Brian', \n",
    "'Bartok', 'Bellini', 'Buxtehude', 'Bernstein'. Which one comes last?"
   ]
  },
  {
   "cell_type": "code",
   "execution_count": 34,
   "id": "552070fc",
   "metadata": {},
   "outputs": [
    {
     "name": "stdout",
     "output_type": "stream",
     "text": [
      "first item is Bartok\n",
      " last item is Buxtehude"
     ]
    }
   ],
   "source": [
    "string[] names= {\"Berlioz\", \"Borodin\", \"Brian\", \n",
    "\"Bartok\", \"Bellini\", \"Buxtehude\", \"Bernstein\"};\n",
    "Array.Sort(names);\n",
    "\n",
    "Console.Write(\"first item is \"+ names[0]);\n",
    "Console.Write(\"\\n last item is \"+ names[names.Length-1]);\n",
    "          "
   ]
  },
  {
   "cell_type": "markdown",
   "id": "d90720ef",
   "metadata": {},
   "source": [
    "first item is Bartok\n",
    " last item is Buxtehude"
   ]
  },
  {
   "cell_type": "markdown",
   "id": "5e9ab968",
   "metadata": {},
   "source": [
    "# Question 3 C#\n",
    "Implement function triangleArea(a,b,c) that takes as input the lengths of the 3 \n",
    "sides of a triangle and returns the area of the triangle. By Heron's formula, the area \n",
    "of a triangle with side lengths a, b, and c is s(s − a)(s −b)(s −c), where\n",
    "s = (a + b + c)/2.\n",
    ">>> triangleArea(2,2,2) \n",
    "1.7320508075688772"
   ]
  },
  {
   "cell_type": "code",
   "execution_count": null,
   "id": "3baba927",
   "metadata": {},
   "outputs": [],
   "source": [
    "using System; //Visual Studio syntax\n",
    "namespace FunctionExample\n",
    "{\n",
    "    class myFunction\n",
    "    {\n",
    "        public void triangleArea(float a,float b,float c)\n",
    "        {\n",
    "            {\n",
    "                double s = (a + b + c) / 2;\n",
    "                double area = Math.Sqrt(s * (s - a) * (s - b) * (s - c));\n",
    "                Console.Write(\"area of the triangle is \" + area);\n",
    "            }\n",
    "\n",
    "        }\n",
    "        static void Main(string[] args)\n",
    "        {\n",
    "            myFunction program = new myFunction();\n",
    "            Console.WriteLine(\"enter the 3 sides of triangle\");\n",
    "            float a, b, c;\n",
    "            a = float.Parse(Console.ReadLine());\n",
    "            b = float.Parse(Console.ReadLine());\n",
    "            c = float.Parse(Console.ReadLine());\n",
    "\n",
    "\n",
    "            program.triangleArea(a,b,c);\n",
    "        }\n",
    "    }\n",
    "}"
   ]
  },
  {
   "cell_type": "code",
   "execution_count": null,
   "id": "7c2d9a7a",
   "metadata": {},
   "outputs": [],
   "source": [
    "o/p:\n",
    "enter the 3 sides of triangle\n",
    "2\n",
    "2\n",
    "2\n",
    "area of the triangle is 1.7320508075688772"
   ]
  },
  {
   "cell_type": "markdown",
   "id": "dd62a43f",
   "metadata": {},
   "source": [
    "The codes and syntax above has been written according the visual studio."
   ]
  },
  {
   "cell_type": "markdown",
   "id": "4b71561f",
   "metadata": {},
   "source": [
    "# Question 4 C#\n",
    "Write a program in C# Sharp to separate odd and even integers in separate arrays.\n",
    "Go to the editor\n",
    "Test Data :\n",
    "Input the number of elements to be stored in the array :5\n",
    "Input 5 elements in the array :\n",
    "element - 0 : 25\n",
    "element - 1 : 47\n",
    "element - 2 : 42\n",
    "element - 3 : 56\n",
    "element - 4 : 32\n",
    "Expected Output:\n",
    "The Even elements are:\n",
    "42 56 32\n",
    "The Odd elements are :\n",
    "25 47"
   ]
  },
  {
   "cell_type": "code",
   "execution_count": null,
   "id": "01e34b1d",
   "metadata": {},
   "outputs": [],
   "source": [
    "using System; //Visual Studio syntax\n",
    "namespace FunctionExample\n",
    "{\n",
    "    class myFunction\n",
    "    {\n",
    "      \n",
    "        static void Main(string[] args)\n",
    "        {\n",
    "            Console.WriteLine(\"enter 5 Integers\");\n",
    "            int[] arr = new int[5];\n",
    "            int i;\n",
    "            Console.WriteLine(\"\\n input 5 elements of an array\\n\");\n",
    "            for(i=0; i<5;i++)\n",
    "            {\n",
    "                Console.WriteLine(\"enter element -{0}\",i);\n",
    "                arr[i] = Convert.ToInt32(Console.ReadLine());   \n",
    "            }\n",
    "\n",
    "\n",
    "\n",
    "            //int[] arr2 = new int[5];//could nt use add or push with array\n",
    "            //List<int> even = new List<int> { };\n",
    "            //List<int> odd = new List<int> { };\n",
    "            //int[] odd = new int[5];\n",
    "            //int[] even = new int[5];\n",
    "            string odd = \"\";\n",
    "            string even = \"\";\n",
    "            for (int j = 0; j < 5; j++)\n",
    "            {\n",
    "                if (arr[j] % 2 == 0)\n",
    "                {\n",
    "                    even  = even+\"\\n\"+  Convert.ToString(arr[j]);\n",
    "                }\n",
    "                else\n",
    "                {\n",
    "                    odd = odd+ \"\\n\"+  Convert.ToString(arr[j]);\n",
    "\n",
    "                }\n",
    "            }\n",
    "            Console.WriteLine($\"the odd numbers are  {odd}\");\n",
    "           \n",
    "            Console.WriteLine($\"the even numbers are {even}\");\n",
    "\n",
    "\n",
    "\n",
    "        }\n",
    "    }\n",
    "}"
   ]
  },
  {
   "cell_type": "code",
   "execution_count": null,
   "id": "5963807e",
   "metadata": {},
   "outputs": [],
   "source": [
    "o/p:\n",
    "enter 5 Integers\n",
    "\n",
    " input 5 elements of an array\n",
    "\n",
    "enter element -0\n",
    "1\n",
    "enter element -1\n",
    "2\n",
    "enter element -2\n",
    "3\n",
    "enter element -3\n",
    "4\n",
    "enter element -4\n",
    "5\n",
    "the odd numbers are\n",
    "1\n",
    "3\n",
    "5\n",
    "the even numbers are\n",
    "2\n",
    "4"
   ]
  },
  {
   "cell_type": "markdown",
   "id": "ea63c865",
   "metadata": {},
   "source": [
    "# Question 5 C#\n",
    "a. Write a function inside(x,y,x1,y1,x2,y2) that returns True or False\n",
    "depending on whether the point (x,y) lies in the rectangle with lower left\n",
    "corner (x1,y1) and upper right corner (x2,y2).\n",
    ">>> inside(1,1,0,0,2,3)\n",
    "True\n",
    ">>> inside(-1,-1,0,0,2,3)\n",
    "False"
   ]
  },
  {
   "cell_type": "code",
   "execution_count": null,
   "id": "e95acb50",
   "metadata": {},
   "outputs": [],
   "source": [
    "using System; //Visual Studio syntax\n",
    "namespace FunctionExample\n",
    "{\n",
    "    class myFunction\n",
    "    {\n",
    "      \n",
    "        static void Main(string[] args)\n",
    "        {\n",
    "\n",
    "            bool inside(int x, int y, int x1, int y1, int x2, int y2)\n",
    "            {\n",
    "                if (x >= x1 && x <= x2 && y >= y1 && y <= y2)\n",
    "                {\n",
    "                    return true;\n",
    "                }\n",
    "                return false;\n",
    "            }\n",
    "\n",
    "            Console.WriteLine(inside(1, 1, 0, 0, 2, 3));\n",
    "            Console.WriteLine(inside(-1, -1, 0, 0, 2, 3));\n",
    "\n",
    "\n",
    "        }\n",
    "    }\n",
    "}"
   ]
  },
  {
   "cell_type": "code",
   "execution_count": null,
   "id": "2bcf43d2",
   "metadata": {},
   "outputs": [],
   "source": [
    "o/p:\n",
    "    True\n",
    "    False"
   ]
  },
  {
   "cell_type": "markdown",
   "id": "54ad2bb2",
   "metadata": {},
   "source": [
    "b. Use function inside() from part a. to write an expression that tests whether\n",
    "the point (1,1) lies in both of the following rectangles: one with lower left\n",
    "corner (0.3, 0.5) and upper right corner (1.1, 0.7) and the other with lower\n",
    "left corner (0.5, 0.2) and upper right corner (1.1, 2)."
   ]
  },
  {
   "cell_type": "markdown",
   "id": "11951e3e",
   "metadata": {},
   "source": [
    "=> the int type in the function argument should be made double because we are dealing with float data type here"
   ]
  },
  {
   "cell_type": "code",
   "execution_count": null,
   "id": "9db966a4",
   "metadata": {},
   "outputs": [],
   "source": [
    " using System; //Visual Studio syntax\n",
    "namespace FunctionExample\n",
    "{\n",
    "    class myFunction\n",
    "    {\n",
    "      \n",
    "        static void Main(string[] args)\n",
    "        {\n",
    "\n",
    "            bool inside(double x, double y, double x1, double y1, double x2, double y2)\n",
    "            {\n",
    "                if (x >= x1 && x <= x2 && y >= y1 && y <= y2)\n",
    "                {\n",
    "                    return true;\n",
    "                }\n",
    "                return false;\n",
    "            }\n",
    "\n",
    "            Console.WriteLine(inside(1,1,0.3,0.5,1.1,0.7));\n",
    "            Console.WriteLine(inside(1, 1, 0.5, 0.2, 1.1, 2));\n",
    "\n",
    "\n",
    "        }\n",
    "    }\n",
    "}"
   ]
  },
  {
   "cell_type": "code",
   "execution_count": null,
   "id": "d25652dd",
   "metadata": {},
   "outputs": [],
   "source": [
    "o/p:\n",
    "    False\n",
    "    True"
   ]
  },
  {
   "cell_type": "markdown",
   "id": "65dca86c",
   "metadata": {},
   "source": [
    "# Question 6 Python\n",
    "\n",
    "    You can turn a word into pig-Latin using the following two rules (simplified): • If the word starts with a consonant, move that letter to the end and append 'ay'. For example, 'happy' becomes 'appyhay' and 'pencil' becomes 'encilpay'. • If the word starts with a vowel, simply append 'way' to the end of the word. For example, 'enter' becomes 'enterway' and 'other' becomes 'otherway' . For our purposes, there are 5 vowels: a, e, i, o, u (so we count y as a consonant). Write a function pig() that takes a word (i.e., a string) as input and returns its pig- Latin form. Your function should still work if the input word contains upper case characters. Your output should always be lower case however.\n",
    "\n"
   ]
  },
  {
   "cell_type": "code",
   "execution_count": 1,
   "id": "50d0eb93",
   "metadata": {},
   "outputs": [
    {
     "name": "stdout",
     "output_type": "stream",
     "text": [
      "appyhay\n",
      "enterway\n"
     ]
    }
   ],
   "source": [
    "def pig(word):\n",
    "    vowels = \"aeiou\"\n",
    "    pigLatin=\"\"\n",
    "    if word[0].lower() in vowels:\n",
    "        pigLatin = word.lower() + \"way\"\n",
    "    \n",
    "    else:\n",
    "         pigLatin =  word.lower()[1:] + word[0].lower()+\"ay\"\n",
    "    print(pigLatin)\n",
    "\n",
    "pig(\"happy\")\n",
    "pig(\"Enter\")"
   ]
  },
  {
   "cell_type": "markdown",
   "id": "a62a1a01",
   "metadata": {},
   "source": [
    "# Question 7 Python\n",
    "Write a function bldcount() that reads the file with name name and reports (i.e.,\n",
    "prints) how many patients there are in each bloodtype."
   ]
  },
  {
   "cell_type": "code",
   "execution_count": 5,
   "id": "f6bb27dd",
   "metadata": {},
   "outputs": [
    {
     "name": "stdout",
     "output_type": "stream",
     "text": [
      "There are 15 patients of blood type A\n",
      "There are 1 patients of blood type B\n",
      "There are 13 patients of blood type AB\n",
      "There are 15 patients of blood type O\n",
      "There are 0 patients of blood type OO\n"
     ]
    }
   ],
   "source": [
    "def bloodGCount(filePath):\n",
    "\n",
    "    A =  0\n",
    "    B =0\n",
    "    AB =0\n",
    "    O =0\n",
    "    OO=0\n",
    "    ofile = open(filePath,'r')\n",
    "#     absolute path\n",
    "    file1 =ofile.read()\n",
    "    ofile.close()\n",
    "    file1 = file1.split()\n",
    "#     print(len(file1))\n",
    "    for blood in file1:\n",
    "        if blood ==\"A\":\n",
    "            A+=1\n",
    "        elif blood ==\"B\":\n",
    "            B+=1\n",
    "        elif blood ==\"AB\":\n",
    "            AB+=1\n",
    "        elif blood ==\"O\":\n",
    "            O+=1\n",
    "        elif blood ==\"OO\":\n",
    "            OO+=1\n",
    "    print(\"There are \"+str(A)+\" patients of blood type A\")\n",
    "    print(\"There are \"+str(B)+\" patients of blood type B\")\n",
    "    print(\"There are \"+str(AB)+\" patients of blood type AB\")\n",
    "    print(\"There are \"+str(O)+\" patients of blood type O\")\n",
    "    print(\"There are \"+str(OO)+\" patients of blood type OO\")\n",
    "filePath = \"C:/Users/Suprim Thapa/data programming/blood.txt\"          \n",
    "bloodGCount(filePath)\n",
    "    \n",
    "    "
   ]
  },
  {
   "cell_type": "markdown",
   "id": "41ea76b8",
   "metadata": {},
   "source": [
    "# Question 8 \n",
    "Write a function curconv() that takes as input:\n",
    "1. a currency represented using a string (e.g., 'JPY' for the Japanese Yen or\n",
    "'EUR' for the Euro)\n",
    "2. an amount\n",
    "and then converts and returns the amount in US dollars.\n"
   ]
  },
  {
   "cell_type": "code",
   "execution_count": 4,
   "id": "719b8b47",
   "metadata": {},
   "outputs": [
    {
     "name": "stdout",
     "output_type": "stream",
     "text": [
      "122.96544\n",
      "1.241401\n"
     ]
    }
   ],
   "source": [
    "\n",
    "def curconv(iCurrency,amount):\n",
    "    # open the file for reading\n",
    "    file_name = \"C:/Users/Suprim Thapa/data programming/currency.txt\"\n",
    "    \n",
    "    dict = {}\n",
    "    with open(file_name, 'r') as file:\n",
    "        for line in file:\n",
    "            currency,rate,asd  = line.split(\"\\t\")\n",
    "            dict[(currency)] = float(rate)\n",
    "        if iCurrency not in dict:\n",
    "            return print(\"no such currency in the list to convert\")\n",
    "        return  print(amount*dict[iCurrency])\n",
    "#iCurrency = input(\"enter the currency that you want to convert to usd\\n\").upper() \n",
    "#amount = float(input(\"enter the amount to be converted\\n\"))\n",
    "# print(type(amount))\n",
    "curconv(\"EUR\",100)\n",
    "curconv(\"JPY\",100)"
   ]
  },
  {
   "cell_type": "markdown",
   "id": "55f43751",
   "metadata": {},
   "source": [
    "# Question 9 Python\n",
    "Each of the following will cause an exception (an error). Identify what type of \n",
    "exception each will cause.\n",
    "\n",
    "i. adding incompatible variable"
   ]
  },
  {
   "cell_type": "code",
   "execution_count": null,
   "id": "8b319e53",
   "metadata": {},
   "outputs": [],
   "source": [
    "6+'a'"
   ]
  },
  {
   "cell_type": "code",
   "execution_count": null,
   "id": "e1fba97a",
   "metadata": {},
   "outputs": [],
   "source": [
    "TypeError: can only concatenate str (not \"int\") to str"
   ]
  },
  {
   "cell_type": "markdown",
   "id": "38c2116b",
   "metadata": {},
   "source": [
    "ii. Referring to the 12th item of a list that has only 10 items"
   ]
  },
  {
   "cell_type": "code",
   "execution_count": null,
   "id": "b624564e",
   "metadata": {},
   "outputs": [],
   "source": [
    "numbers = [1,2,3,4,5,6,7,8,9,10]\n",
    "print(numbers[10])"
   ]
  },
  {
   "cell_type": "markdown",
   "id": "64b8faad",
   "metadata": {},
   "source": [
    "IndexError: list index out of range"
   ]
  },
  {
   "cell_type": "markdown",
   "id": "35ef6213",
   "metadata": {},
   "source": [
    "iii. Using a value that is out ofrange for a function’s \n",
    "input, such as calling math.sqrt(-1.0)"
   ]
  },
  {
   "cell_type": "markdown",
   "id": "dff110d2",
   "metadata": {},
   "source": [
    "import math\n",
    "math.sqrt(-1)"
   ]
  },
  {
   "cell_type": "markdown",
   "id": "ea65a390",
   "metadata": {},
   "source": [
    "ValueError: math domain error"
   ]
  },
  {
   "cell_type": "markdown",
   "id": "a122505a",
   "metadata": {},
   "source": [
    "iv. Using an undeclared variable, such as print(x)\n",
    "    when x has not been defined"
   ]
  },
  {
   "cell_type": "code",
   "execution_count": null,
   "id": "d422157f",
   "metadata": {},
   "outputs": [],
   "source": [
    "print(abc)"
   ]
  },
  {
   "cell_type": "markdown",
   "id": "dd69599f",
   "metadata": {},
   "source": [
    "NameError: name 'abc' is not defined"
   ]
  },
  {
   "cell_type": "markdown",
   "id": "e037877d",
   "metadata": {},
   "source": [
    "v. Trying to open a file that does not exist, such as \n",
    "mistyping the file name or looking in the wrong \n",
    "directory."
   ]
  },
  {
   "cell_type": "code",
   "execution_count": null,
   "id": "45b1c3c3",
   "metadata": {},
   "outputs": [],
   "source": [
    "ofile = open(\"C:/Users/Suprim Thapa/data programming/currencyss.txt\"\n",
    ",'r')\n",
    "file1 =ofile.read()\n",
    "ofile.close()\n",
    "print(file1)"
   ]
  },
  {
   "cell_type": "markdown",
   "id": "d54ce400",
   "metadata": {},
   "source": [
    "FileNotFoundError: [Errno 2] No such file or directory: 'C:/Users/Suprim Thapa/data programming/currencyss.txt'"
   ]
  },
  {
   "cell_type": "markdown",
   "id": "4c361c69",
   "metadata": {},
   "source": [
    "# # Question 10 Python\n",
    "Encryption is the process of hiding the meaning of a text by substituting letters in the \n",
    "message with other letters, according to some system. If the process is successful, no \n",
    "one but the intended recipient can understand the encrypted message. Cryptanalysis \n",
    "refers to attempts to undo the encryption, even if some details of the encryption are \n",
    "unknown (for example, if an encrypted message has been intercepted). The first step \n",
    "of cryptanalysis is often to build up a table of letter frequencies in the encrypted text. \n",
    "Assume that the string letters is already defined as \n",
    "'abcdefghijklmnopqrstuvwxyz'. Write a function called frequencies() \n",
    "that takes a string as its only parameter, and returns a list of integers, showing the \n",
    "number of times each character appears in the text. Your function may ignore any \n",
    "characters that are not in letters.\n",
    ">>> frequencies('The quick red fox got bored and went home.') \n",
    "[1, 1, 1, 3, 5, 1, 1, 2, 1, 0, 1, 0, 1, 2, 4, 0, 1, 2, 0, 2,\n",
    "1, 0, 1, 1, 0, 0]\n",
    ">>> frequencies('apple')\n"
   ]
  },
  {
   "cell_type": "code",
   "execution_count": 28,
   "id": "eddcde3c",
   "metadata": {},
   "outputs": [
    {
     "name": "stdout",
     "output_type": "stream",
     "text": [
      "[1, 1, 1, 3, 5, 1, 1, 2, 1, 0, 1, 0, 1, 2, 4, 0, 1, 2, 0, 3, 1, 0, 1, 1, 0, 0]\n",
      "[1, 0, 0, 0, 1, 0, 0, 0, 0, 0, 0, 1, 0, 0, 0, 2, 0, 0, 0, 0, 0, 0, 0, 0, 0, 0]\n"
     ]
    }
   ],
   "source": [
    "def frequencies(text):\n",
    "    letters = \"abcdefghijklmnopqrstuvwxyz\"\n",
    "    result = [0] * 26\n",
    "    text = text.lower()\n",
    "    for char in text:\n",
    "        index = letters.find(char)\n",
    "        if index != -1:\n",
    "            result[index] += 1\n",
    "    return result\n",
    "\n",
    "print(frequencies(\"The quick red fox got bored and went home.\"))\n",
    "print(frequencies(\"apple\"))\n"
   ]
  }
 ],
 "metadata": {
  "kernelspec": {
   "display_name": "Python 3 (ipykernel)",
   "language": "python",
   "name": "python3"
  },
  "language_info": {
   "codemirror_mode": {
    "name": "ipython",
    "version": 3
   },
   "file_extension": ".py",
   "mimetype": "text/x-python",
   "name": "python",
   "nbconvert_exporter": "python",
   "pygments_lexer": "ipython3",
   "version": "3.9.13"
  }
 },
 "nbformat": 4,
 "nbformat_minor": 5
}
